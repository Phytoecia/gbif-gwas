{
 "cells": [
  {
   "cell_type": "markdown",
   "metadata": {},
   "source": [
    "This code is to calculate the herbivore density over plant samples based on two distribution input datasets.\n",
    "It gets plant sampling data (e.g., 1001 genome accession coordinate) and GBIF data as input.\n",
    "The output file contains plant ID and corresponding density of herbivore."
   ]
  },
  {
   "cell_type": "code",
   "execution_count": null,
   "metadata": {},
   "outputs": [],
   "source": [
    "import pandas as pd\n",
    "import numpy as np\n",
    "import geopy\n",
    "from geopy import distance #distance extraction\n",
    "import argparse"
   ]
  },
  {
   "cell_type": "code",
   "execution_count": null,
   "metadata": {},
   "outputs": [],
   "source": [
    "#default setting\n",
    "query_coord='/home/minsoo/240108_GBIF_GWAS/raw_data/1001genome_coord.csv'\n",
    "# target_dir='/home/minsoo/240108_GBIF_GWAS/raw_data/target_list.txt'\n",
    "output_dir='./gbif_output.pheno'\n",
    "intensity=True\n",
    "range=100\n"
   ]
  },
  {
   "cell_type": "code",
   "execution_count": null,
   "metadata": {},
   "outputs": [],
   "source": [
    "\n",
    "parser = argparse.ArgumentParser()\n",
    "parser.add_argument(\"-q\", \"--query\", default=query_coord) #directory of arabidopsis accession and coordinate\n",
    "parser.add_argument(\"-t\", \"--target\", required=True) #txt file containing (gbif output dir, species name)\n",
    "parser.add_argument(\"-o\", \"--outdir\", default=output_dir) #output file name\n",
    "parser.add_argument(\"-r\", \"--range\", default=100) # range to include gbif data\n",
    "parser.add_argument('-i', \"--intensity\", default=True)\n",
    "args = parser.parse_args()\n"
   ]
  },
  {
   "cell_type": "code",
   "execution_count": null,
   "metadata": {},
   "outputs": [],
   "source": [
    "def ProcessGBIF(dir):\n",
    "    raw_file = pd.read_csv(dir, sep='\\t', low_memory=False)\n",
    "    file_woNA = raw_file.dropna(subset=['decimalLatitude', 'decimalLongitude'])\n",
    "    return file_woNA"
   ]
  },
  {
   "cell_type": "code",
   "execution_count": null,
   "metadata": {},
   "outputs": [],
   "source": [
    "def GetHerbivory(plant_dir, target_list, outdir, range, intensity):\n",
    "    print(f\"range is {range}\")\n",
    "    f=pd.read_csv(target_list, header=None)\n",
    "    plant=pd.read_csv(plant_dir)\n",
    "    plant=plant.dropna(subset=['Latitude', 'Longitude'])\n",
    "    \n",
    "    output=pd.DataFrame()\n",
    "    output['FID']=plant['ID']\n",
    "    output['IID']=plant['ID']\n",
    "    \n",
    "    for i, herbivore in f.iterrows():\n",
    "        print(f\"{herbivore[1]} calculation started\")    \n",
    "        density_list=[]\n",
    "        for idx, ecotype in plant.iterrows():\n",
    "            Herbivore_count=0\n",
    "            At_coord=(ecotype['Latitude'], ecotype['Longitude'])\n",
    "            for i, row in ProcessGBIF(herbivore[0]).iterrows():\n",
    "                Herbivore_coord=(row['decimalLatitude'], row['decimalLongitude'])\n",
    "                if geopy.distance.distance(At_coord, Herbivore_coord).km<range:\n",
    "                    Herbivore_count+=1\n",
    "                    if intensity==False:\n",
    "                        break\n",
    "            density_list.append(Herbivore_count)\n",
    "            if idx%100==0:\n",
    "                print(f\"{idx} per 1134 accessions finished\")\n",
    "        output[herbivore[1]]=density_list\n",
    "        print(f\"{herbivore[1]} calculation finished\")\n",
    "    \n",
    "    output.to_csv(outdir, sep=' ', index=False)\n",
    "    \n",
    "        "
   ]
  },
  {
   "cell_type": "code",
   "execution_count": null,
   "metadata": {},
   "outputs": [],
   "source": [
    "GetHerbivory(plant_dir=args.query, target_list=args.target, outdir=args.outdir, range=args.range, intensity=args.intensity)"
   ]
  }
 ],
 "metadata": {
  "kernelspec": {
   "display_name": "gbif",
   "language": "python",
   "name": "python3"
  },
  "language_info": {
   "codemirror_mode": {
    "name": "ipython",
    "version": 3
   },
   "file_extension": ".py",
   "mimetype": "text/x-python",
   "name": "python",
   "nbconvert_exporter": "python",
   "pygments_lexer": "ipython3",
   "version": "3.12.1"
  }
 },
 "nbformat": 4,
 "nbformat_minor": 2
}
